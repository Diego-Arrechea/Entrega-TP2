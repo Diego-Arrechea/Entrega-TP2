{
 "cells": [
  {
   "cell_type": "code",
   "execution_count": null,
   "id": "58c965dc-54a0-4640-b1e5-52027edd89b3",
   "metadata": {},
   "outputs": [],
   "source": [
    "first_word = input(\"Ingrese la primera palabra: \")\n",
    "second_word = input(\"Ingrese la segunda palabra: \")\n",
    "same_words = sorted(first_word) == sorted(second_word)\n",
    "\n",
    "# Al ordenarlas, si son anagramas, los caracteres seran los mismos en el mismo orden.\n",
    "\n",
    "if same_words:\n",
    "    print(\"Son anagramas\")\n",
    "else:\n",
    "    print(\"No son anagramas\")\n"
   ]
  }
 ],
 "metadata": {
  "kernelspec": {
   "display_name": "Python 3 (ipykernel)",
   "language": "python",
   "name": "python3"
  },
  "language_info": {
   "codemirror_mode": {
    "name": "ipython",
    "version": 3
   },
   "file_extension": ".py",
   "mimetype": "text/x-python",
   "name": "python",
   "nbconvert_exporter": "python",
   "pygments_lexer": "ipython3",
   "version": "3.12.1"
  }
 },
 "nbformat": 4,
 "nbformat_minor": 5
}
