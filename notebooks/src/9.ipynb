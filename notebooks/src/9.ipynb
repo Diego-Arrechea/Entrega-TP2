{
 "cells": [
  {
   "cell_type": "code",
   "execution_count": null,
   "id": "14aa6815-ea35-45ca-9853-b76f2e20a6a4",
   "metadata": {},
   "outputs": [],
   "source": [
    "clients = [\n",
    "    \" Ana López \",\n",
    "    \"Pedro Gómez\",\n",
    "    \"maria martínez\",\n",
    "    \"Pedro Gómez \",\n",
    "    \"\",\n",
    "    \" Luis Rodríguez \",\n",
    "    None,\n",
    "    \"ana lópez\",\n",
    "    \"JUAN PÉREZ\",\n",
    "    \"MARTA SUÁREZ\",\n",
    "    \"luis rodríguez\",\n",
    "    \"maría martínez \",\n",
    "    \" claudia torres\",\n",
    "    \"CLAUDIA TORRES\",\n",
    "    \" \",\n",
    "    \"pedro gómez\",\n",
    "    \"Juan Pérez\",\n",
    "    None,\n",
    "    \"Ricardo Fernández\",\n",
    "    \"LAURA RAMOS\",\n",
    "    \"carlos mendes\",\n",
    "    \"RICARDO FERNÁNDEZ \",\n",
    "    \" Laura ramos\",\n",
    "    \"CARLOS MENDES\",\n",
    "    \"alejandro gonzález\",\n",
    "    \" ALEJANDRO GONZÁLEZ \",\n",
    "    \"Patricia Vega\",\n",
    "    \"patricia VEGA\",\n",
    "    \"Andrés Ocampo\",\n",
    "    \" andrés ocampo\",\n",
    "    \"Monica Herrera\",\n",
    "    \"MONICA HERRERA \",\n",
    "    \"gabriela ruíz\",\n",
    "    \"Gabriela Ruíz\",\n",
    "    \"sandra morales\",\n",
    "    \"SANDRA MORALES\",\n",
    "    \"miguel ángel\",\n",
    "    \"Miguel Ángel \",\n",
    "    \" Damián Castillo\",\n",
    "    \"Damián Castillo \",\n",
    "    None,\n",
    "    \"\",\n",
    "    \" \",\n",
    "]"
   ]
  },
  {
   "cell_type": "code",
   "execution_count": null,
   "id": "95f6b16b-8bc0-4487-8335-77bf912525ba",
   "metadata": {},
   "outputs": [],
   "source": [
    "clean_clients = []\n",
    "\n",
    "for client in clients:\n",
    "    if isinstance(client, str) and client.strip() != \"\":\n",
    "        client = client.strip().title()\n",
    "        if client not in clean_clients:\n",
    "            clean_clients.append(client)\n",
    "\n",
    "print(clean_clients)"
   ]
  }
 ],
 "metadata": {
  "kernelspec": {
   "display_name": "Python 3 (ipykernel)",
   "language": "python",
   "name": "python3"
  },
  "language_info": {
   "codemirror_mode": {
    "name": "ipython",
    "version": 3
   },
   "file_extension": ".py",
   "mimetype": "text/x-python",
   "name": "python",
   "nbconvert_exporter": "python",
   "pygments_lexer": "ipython3",
   "version": "3.12.1"
  }
 },
 "nbformat": 4,
 "nbformat_minor": 5
}
