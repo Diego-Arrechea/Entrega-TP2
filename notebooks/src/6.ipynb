{
 "cells": [
  {
   "cell_type": "code",
   "execution_count": null,
   "id": "1814dcd7-4a9c-41ff-af09-c41e886e715b",
   "metadata": {},
   "outputs": [],
   "source": [
    "descriptions = [\n",
    "    \"Streaming de música en vivo con covers y composiciones\",\n",
    "    \"Charla interactiva con la audiencia sobre series y películas\",\n",
    "    \"Jugamos a juegos retro y charlamos sobre su historia\",\n",
    "    \"Exploramos la mejor música de los 80s y 90s\",\n",
    "    \"Programa de entretenimiento con noticias y curiosidades del mundo gamer\",\n",
    "    \"Sesión de charla con invitados especiales del mundo del streaming\",\n",
    "    \"Música en directo con improvisaciones y peticiones del chat\",\n",
    "    \"Un espacio para charlar relajada sobre tecnología y cultura digital\",\n",
    "    \"Exploramos el impacto de la música en los videojuegos clásicos\",\n",
    "]"
   ]
  },
  {
   "cell_type": "code",
   "execution_count": null,
   "id": "8283fb59-8dcd-4214-853e-4e073c200d41",
   "metadata": {},
   "outputs": [],
   "source": [
    "# No estoy usando lower porque en el ejercicio se pide exactamente el conteo de las palabras \"música\", \"entretenimiento\" y \"charla\"\n",
    "\n",
    "count_musica = 0\n",
    "count_entretenimientos = 0\n",
    "count_charlas = 0\n",
    "\n",
    "for description in descriptions:\n",
    "    words_description = description.split(\" \")\n",
    "    for word in words_description:\n",
    "        if word == \"música\":\n",
    "            count_musica += 1\n",
    "        elif word == \"entretenimiento\":\n",
    "            count_entretenimientos += 1\n",
    "        elif word == \"charla\":\n",
    "            count_charlas += 1\n",
    "\n",
    "print(f\"Menciones de 'música': {count_musica}\")\n",
    "print(f\"Menciones de 'charla': {count_charlas}\")\n",
    "print(f\"Menciones de 'entretenimiento': {count_entretenimientos}\")"
   ]
  }
 ],
 "metadata": {
  "kernelspec": {
   "display_name": "Python 3 (ipykernel)",
   "language": "python",
   "name": "python3"
  },
  "language_info": {
   "codemirror_mode": {
    "name": "ipython",
    "version": 3
   },
   "file_extension": ".py",
   "mimetype": "text/x-python",
   "name": "python",
   "nbconvert_exporter": "python",
   "pygments_lexer": "ipython3",
   "version": "3.12.1"
  }
 },
 "nbformat": 4,
 "nbformat_minor": 5
}
