{
 "cells": [
  {
   "cell_type": "code",
   "execution_count": null,
   "id": "acb2c425-4080-4a5a-8ebb-e427e15c1dc6",
   "metadata": {},
   "outputs": [],
   "source": [
    "rules = {\n",
    "    \"mods\": \"\"\"Respeta a los demás. No se permiten insultos ni lenguaje\n",
    "ofensivo.\n",
    "Evita el spam. No publiques enlaces sospechosos o repetitivos.\n",
    "No compartas información personal.\n",
    "Usa los canales adecuados para cada tema.\n",
    "Sigue las instrucciones de los moderadores.\"\"\",\n",
    "    \"users\": \"\"\"No compartas información personal.\n",
    "Usa los canales adecuados para cada tema.\"\"\",\n",
    "}"
   ]
  },
  {
   "cell_type": "code",
   "execution_count": null,
   "id": "fe5f5121-a1e6-4278-9d2b-f4880383af15",
   "metadata": {},
   "outputs": [],
   "source": [
    "input_word = input(\"Ingrese alguna palabra clave: \")\n",
    "\n",
    "if input_word in rules:\n",
    "    print(rules[input_word])\n",
    "else:\n",
    "    print(\"No se encontró la palabra clave\")"
   ]
  }
 ],
 "metadata": {
  "kernelspec": {
   "display_name": "Python 3 (ipykernel)",
   "language": "python",
   "name": "python3"
  },
  "language_info": {
   "codemirror_mode": {
    "name": "ipython",
    "version": 3
   },
   "file_extension": ".py",
   "mimetype": "text/x-python",
   "name": "python",
   "nbconvert_exporter": "python",
   "pygments_lexer": "ipython3",
   "version": "3.12.1"
  }
 },
 "nbformat": 4,
 "nbformat_minor": 5
}
