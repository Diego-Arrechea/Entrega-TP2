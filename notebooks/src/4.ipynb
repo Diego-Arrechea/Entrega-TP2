{
 "cells": [
  {
   "cell_type": "code",
   "execution_count": null,
   "id": "4bb8f629-b6bd-408a-b36e-84148a15bb4e",
   "metadata": {
    "vscode": {
     "languageId": "python"
    }
   },
   "outputs": [],
   "source": [
    "username = input(\"Ingrese un nombre de usuario: \")"
   ]
  },
  {
   "cell_type": "code",
   "execution_count": null,
   "id": "19faca88",
   "metadata": {
    "vscode": {
     "languageId": "python"
    }
   },
   "outputs": [],
   "source": [
    "has_correct_length = False\n",
    "has_one_uppercase = False\n",
    "has_one_number = False\n",
    "has_incorrect_characters = False\n",
    "\n",
    "if len(username) >= 5:\n",
    "    has_correct_length = True\n",
    "\n",
    "    if username.isalnum():\n",
    "        for c in username:\n",
    "            if c.isupper():\n",
    "                has_one_uppercase = True\n",
    "            elif c.isdigit():\n",
    "                has_one_number = True\n",
    "    else:\n",
    "        has_incorrect_characters = True\n",
    "\n",
    "if (\n",
    "    has_correct_length\n",
    "    and has_one_uppercase\n",
    "    and has_one_number\n",
    "    and not has_incorrect_characters\n",
    "):\n",
    "    print(\"El nombre de usuario es válido.\")\n",
    "else:\n",
    "    print(\"El nombre de usuario es inválido.\")"
   ]
  }
 ],
 "metadata": {
  "kernelspec": {
   "display_name": "",
   "name": ""
  },
  "language_info": {
   "name": ""
  }
 },
 "nbformat": 4,
 "nbformat_minor": 5
}
