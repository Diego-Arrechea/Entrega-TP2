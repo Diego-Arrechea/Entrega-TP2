{
 "cells": [
  {
   "cell_type": "code",
   "execution_count": null,
   "id": "f180cbad-f81a-4d41-a189-ec95f5b8fb85",
   "metadata": {},
   "outputs": [],
   "source": [
    "from datetime import datetime\n",
    "import random\n",
    "import string"
   ]
  },
  {
   "cell_type": "code",
   "execution_count": null,
   "id": "d0bb9ad2-1609-435a-86f1-9384a16bd1ff",
   "metadata": {},
   "outputs": [],
   "source": [
    "len_disccount_code = 30\n",
    "fecha_actual = datetime.now().strftime(\"%Y/%m/%d\")\n",
    "username = input(\"Ingrese su nombre de usuario: \")\n",
    "\n",
    "if len(username) > 15:\n",
    "    print(\"El nombre de usuario no puede tener más de 15 caracteres\")\n",
    "else:\n",
    "    code_discount = f\"{username}-{fecha_actual}-\"\n",
    "\n",
    "    for i in range(len_disccount_code - len(code_discount)):\n",
    "        code_discount += random.choice(string.ascii_uppercase + string.digits)\n",
    "    print(code_discount)"
   ]
  }
 ],
 "metadata": {
  "kernelspec": {
   "display_name": "Python 3 (ipykernel)",
   "language": "python",
   "name": "python3"
  },
  "language_info": {
   "codemirror_mode": {
    "name": "ipython",
    "version": 3
   },
   "file_extension": ".py",
   "mimetype": "text/x-python",
   "name": "python",
   "nbconvert_exporter": "python",
   "pygments_lexer": "ipython3",
   "version": "3.12.1"
  }
 },
 "nbformat": 4,
 "nbformat_minor": 5
}
