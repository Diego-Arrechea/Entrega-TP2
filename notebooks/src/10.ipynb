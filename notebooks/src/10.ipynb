{
 "cells": [
  {
   "cell_type": "code",
   "execution_count": null,
   "id": "7f28c560-7d7b-445d-aa42-0963e9868c61",
   "metadata": {
    "scrolled": true
   },
   "outputs": [],
   "source": [
    "!pip install pandas"
   ]
  },
  {
   "cell_type": "code",
   "execution_count": null,
   "id": "5d7f9691-1968-4752-96df-f2fa2bf2e2db",
   "metadata": {},
   "outputs": [],
   "source": [
    "import pandas as pd\n",
    "import random"
   ]
  },
  {
   "cell_type": "code",
   "execution_count": null,
   "id": "5bd4706e-3e32-43ae-bc36-d6e3b111cf00",
   "metadata": {},
   "outputs": [],
   "source": [
    "# Supongamos que estos son los MVP de la partida, ya que sino deberia hacer un algoritmo mucho mas complejo para que la suma de todas las kills y assists de todos los jugadores en una ronda no sea mayor a los jugadores totales\n",
    "players_names = [\"Shadow\", \"Blaze\", \"Viper\", \"Frost\", \"Reaper\"]\n",
    "\n",
    "rounds = []\n",
    "for x in range(random.randint(5, 10)):\n",
    "    round = {}\n",
    "    for player in players_names:\n",
    "        round[player] = {\n",
    "            \"kills\": random.randint(0, 5),\n",
    "            \"assists\": random.randint(0, 5),\n",
    "            \"deaths\": bool(random.randint(0, 1)),\n",
    "        }\n",
    "    rounds.append(round)\n"
   ]
  },
  {
   "cell_type": "code",
   "execution_count": null,
   "id": "7046904a-51c9-4194-9917-aacd46b7e672",
   "metadata": {},
   "outputs": [],
   "source": [
    "def print_results(results):\n",
    "    df = pd.DataFrame.from_dict(results, orient=\"index\")\n",
    "    df.index.name = \"Jugador\"\n",
    "    df.columns = [\"Kills\", \"Asistencias\", \"Muertes\", \"MVPs\", \"Puntos\"]\n",
    "    df = df[[\"Kills\", \"Asistencias\", \"Muertes\", \"MVPs\", \"Puntos\"]]\n",
    "    df = df.sort_values(by=\"Puntos\", ascending=False)\n",
    "    print(df.to_string())\n",
    "\n",
    "\n",
    "def calculate_points(kills, assists, deaths):\n",
    "    points = kills * 3 + assists\n",
    "\n",
    "    if deaths:\n",
    "        points -= 1\n",
    "\n",
    "    return points\n",
    "\n",
    "\n",
    "players_results = {}\n",
    "for index, round in enumerate(rounds):\n",
    "    mvp = {\"player\": None, \"points\": 0}\n",
    "    for player, stats in round.items():\n",
    "        if player not in players_results:\n",
    "            players_results[player] = {\n",
    "                \"kills\": 0,\n",
    "                \"assists\": 0,\n",
    "                \"deaths\": 0,\n",
    "                \"mvps\": 0,\n",
    "                \"points\": 0,\n",
    "            }\n",
    "\n",
    "        current_points = calculate_points(\n",
    "            stats[\"kills\"], stats[\"assists\"], stats[\"deaths\"]\n",
    "        )\n",
    "        players_results[player][\"kills\"] += stats[\"kills\"]\n",
    "        players_results[player][\"assists\"] += stats[\"assists\"]\n",
    "        players_results[player][\"points\"] += current_points\n",
    "        players_results[player][\"deaths\"] += bool(stats[\"deaths\"])\n",
    "\n",
    "        if current_points > mvp[\"points\"]:\n",
    "            mvp[\"player\"] = player\n",
    "            mvp[\"points\"] = current_points\n",
    "\n",
    "    players_results[mvp[\"player\"]][\"mvps\"] += 1\n",
    "\n",
    "    if index == len(rounds) - 1:\n",
    "        print(\"\\n\\nRanking Final\")\n",
    "        print_results(players_results)\n",
    "    else:\n",
    "        print(\"\\n\\nRanking de la ronda: \" + str(index + 1))\n",
    "        print_results(players_results)"
   ]
  }
 ],
 "metadata": {
  "kernelspec": {
   "display_name": "Python 3 (ipykernel)",
   "language": "python",
   "name": "python3"
  },
  "language_info": {
   "codemirror_mode": {
    "name": "ipython",
    "version": 3
   },
   "file_extension": ".py",
   "mimetype": "text/x-python",
   "name": "python",
   "nbconvert_exporter": "python",
   "pygments_lexer": "ipython3",
   "version": "3.12.1"
  }
 },
 "nbformat": 4,
 "nbformat_minor": 5
}
