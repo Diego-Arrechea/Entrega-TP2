{
 "cells": [
  {
   "cell_type": "code",
   "execution_count": null,
   "id": "d18af4af-29bd-4275-be18-a485ad4a6720",
   "metadata": {},
   "outputs": [],
   "source": [
    "user_ms = input(\"Ingrese su tiempo de reacción en ms: \")\n",
    "\n",
    "if user_ms.isdigit():\n",
    "    user_ms = int(user_ms)\n",
    "    if user_ms < 200:\n",
    "        print(\"Rápido\")\n",
    "    elif user_ms < 500:\n",
    "        print(\"Normal\")\n",
    "    else:\n",
    "        print(\"Lento\")\n",
    "else:\n",
    "    print(\"Ingrese un número válido\")\n"
   ]
  }
 ],
 "metadata": {
  "kernelspec": {
   "display_name": "Python 3 (ipykernel)",
   "language": "python",
   "name": "python3"
  },
  "language_info": {
   "codemirror_mode": {
    "name": "ipython",
    "version": 3
   },
   "file_extension": ".py",
   "mimetype": "text/x-python",
   "name": "python",
   "nbconvert_exporter": "python",
   "pygments_lexer": "ipython3",
   "version": "3.12.1"
  }
 },
 "nbformat": 4,
 "nbformat_minor": 5
}
